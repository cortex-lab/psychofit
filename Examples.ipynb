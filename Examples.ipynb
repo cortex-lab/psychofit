{
 "cells": [
  {
   "cell_type": "markdown",
   "metadata": {},
   "source": [
    "# Examples of use of psychofit toolbox\n",
    "\n",
    "### Summary:\n",
    "Example 1: Fit data from 0 to 1 and stimulus in log units, using erf<br>\n",
    "Example 2: Fit data from 0 to 1 and stimulus in linear units, using erf<br>\n",
    "Example 3: Same, with two different lapse rates<br>\n",
    "Example 4: Fit data from .5 to 1, using weibull\n",
    "\n",
    "### Advanced: \n",
    "Add error bars to data, parameters, and fits"
   ]
  },
  {
   "cell_type": "code",
   "execution_count": 1,
   "metadata": {},
   "outputs": [
    {
     "name": "stdout",
     "output_type": "stream",
     "text": [
      "Help on module psychofit:\n",
      "\n",
      "NAME\n",
      "    psychofit\n",
      "\n",
      "DESCRIPTION\n",
      "    The psychofit toolbox contains tools to fit two-alternative psychometric\n",
      "    data. The fitting is done using maximal likelihood estimation: one\n",
      "    assumes that the responses of the subject are given by a binomial\n",
      "    distribution whose mean is given by the psychometric function.\n",
      "    \n",
      "    The data can be expressed in fraction correct (from 50 to 100%) or in\n",
      "    fraction of one specific choice (from 0 to 100%). To fit them you can use\n",
      "    these functions:\n",
      "      weibull50          - Weibull function from 0.5 to 1, with lapse rate\n",
      "      weibull            - Weibull function from 0 to 1, with lapse rate\n",
      "      erf_psycho         - erf function from 0 to 1, with lapse rate\n",
      "      erf_psycho_2gammas - erf function from 0 to 1, wiht two lapse rates\n",
      "    \n",
      "    Functions in the toolbox are:\n",
      "      mle_fit_psycho     - Maximumum likelihood fit of psychometric function\n",
      "      neg_likelihood     - Negative likelihood of a psychometric function\n",
      "    \n",
      "    For more info, see:\n",
      "      Examples           - Examples of use of psychofit toolbox\n",
      "    \n",
      "    Matteo Carandini, 2000-2015\n",
      "\n",
      "FUNCTIONS\n",
      "    erf_psycho(pars, xx)\n",
      "        erf function from 0 to 1, with lapse rate.\n",
      "        \n",
      "        Args:\n",
      "            pars: Model parameters [threshold, slope, gamma].\n",
      "            xx: vector of stim levels (%).\n",
      "        \n",
      "        Returns:\n",
      "            ff: A vector of length xx\n",
      "            \n",
      "        Examples:\n",
      "            >>> import numpy as np\n",
      "            >>> import matplotlib.pyplot as plt\n",
      "            >>> xx = np.arange(-50,50)\n",
      "            >>> ff = erf_psycho(np.array(-10., 10., 0.1),xx)\n",
      "            >>> plt.plot(xx,ff)\n",
      "            \n",
      "        Raises: \n",
      "            ValueError: pars must be a vector of length 3\n",
      "            ValueError: each of the three parameters must be scalar\n",
      "            TypeError: pars must be a list or numpy array\n",
      "            \n",
      "        Information:\n",
      "            2000    MC wrote it\n",
      "            2018-08 MW ported to Python\n",
      "    \n",
      "    erf_psycho_2gammas(pars, xx)\n",
      "        erf function from 0 to 1, with two lapse rates.\n",
      "        \n",
      "        Args:\n",
      "            pars: Model parameters [threshold, slope, gamma].\n",
      "            xx: vector of stim levels (%)\n",
      "        \n",
      "        Returns:\n",
      "            ff: A vector of length xx\n",
      "            \n",
      "        Examples:\n",
      "            >>> import numpy as np\n",
      "            >>> import matplotlib.pyplot as plt\n",
      "            >>> xx = np.arange(-50,50)\n",
      "            >>> ff = erf_psycho_2gammas(np.array(-10., 10., 0.2, 0.),xx)\n",
      "            >>> plt.plot(xx,ff)\n",
      "            \n",
      "        Raises: \n",
      "            ValueError: pars must be a vector of length 3\n",
      "            ValueError: each of the three parameters must be scalar\n",
      "            TypeError: pars must be a list or numpy array\n",
      "            \n",
      "        Information:\n",
      "            2000    MC wrote it\n",
      "            2018-08 MW ported to Python\n",
      "    \n",
      "    mle_fit_psycho(data, P_model='weibull', parstart=None, parmin=None, parmax=None, nfits=5)\n",
      "        Maximumum likelihood fit of psychometric function.\n",
      "        \n",
      "        Args:\n",
      "            data: 3 x n matrix where first row corrsponds to stim levels (%), \n",
      "                the second to number of trials for each stim level (int),\n",
      "                the third to proportion correct (float between 0 and 1)\n",
      "            P_model: The psychometric function. Possibilities include 'weibull'\n",
      "                (DEFAULT), 'weibull50', 'erf_psycho' and 'erf_psycho_2gammas'\n",
      "            parstart: Non-zero starting parameters, used to try to avoid local\n",
      "                minima.  The parameters are [threshold, slope, gamma], or if\n",
      "                using the 'erf_psycho_2gammas' model append a second gamma value.\n",
      "                Recommended to use a value > 1.\n",
      "                If None, some reasonable defaults are used.\n",
      "            parmin: Minimum parameter values.  If None, some reasonable defaults \n",
      "                are used\n",
      "            parmax: Maximum parameter values.  If None, some reasonable defaults \n",
      "                are used\n",
      "            nfits: the number of fits\n",
      "        \n",
      "        Returns:\n",
      "            pars: The parameters from the best of the fits\n",
      "            L: The likliehood of the best fit\n",
      "            \n",
      "        Raises:\n",
      "            TypeError: data must be a list or numpy array\n",
      "            ValueError: data must be m by 3 matrix\n",
      "        \n",
      "        Examples:\n",
      "            Below we fit a Weibull function to some data:\n",
      "            \n",
      "            >>> import numpy as np\n",
      "            >>> import matplotlib.pyplot as plt\n",
      "            >>> cc = np.array([-8., -6., -4., -2.,  0.,  2.,  4.,  6.,  8.]) # contrasts\n",
      "            >>> nn = np.full((9,),10) # number of trials at each contrast\n",
      "            >>> pp = np.array([5., 8., 20., 41., 54., 59., 79., 92., 96])/100 # proportion \"rightward\"\n",
      "            >>> pars, L = mle_fit_psycho(np.vstack((cc,nn,pp)), 'erf_psycho')\n",
      "            >>> plt.plot(cc, pp, 'bo', mfc='b')\n",
      "            >>> plt.plot(np.arange(-8,8,0.1), erf_psycho(pars,np.arange(-8,8,0.1)), '-b')\n",
      "            \n",
      "        Information:\n",
      "            1999-11 FH wrote it\n",
      "            2000-01 MC cleaned it up\n",
      "            2000-04 MC took care of the 50% case\n",
      "            2009-12 MC replaced fmins with fminsearch\n",
      "            2010-02 MC, AZ added nfits\n",
      "            2013-02 MC+MD fixed bug with dealing with NaNs\n",
      "            2018-08 MW ported to Python\n",
      "    \n",
      "    neg_likelihood(pars, data, P_model='weibull', parmin=None, parmax=None)\n",
      "        Negative likelihood of a psychometric function.\n",
      "        \n",
      "        Args:\n",
      "            pars: Model parameters [threshold, slope, gamma], or if\n",
      "                using the 'erf_psycho_2gammas' model append a second gamma value.\n",
      "            data: 3 x n matrix where first row corrsponds to stim levels (%), \n",
      "                the second to number of trials for each stim level (int),\n",
      "                the third to proportion correct (float between 0 and 1)\n",
      "            P_model: The psychometric function. Possibilities include 'weibull'\n",
      "                (DEFAULT), 'weibull50', 'erf_psycho' and 'erf_psycho_2gammas'\n",
      "            parmin: Minimum bound for parameters.  If None, some reasonable defaults \n",
      "                are used\n",
      "            parmax: Maximum bound for parameters.  If None, some reasonable defaults \n",
      "                are used\n",
      "        \n",
      "        Returns:\n",
      "            l: The likliehood of the parameters.  The equation is:\n",
      "                - sum(nn.*(pp.*log10(P_model)+(1-pp).*log10(1-P_model)))\n",
      "                See the the appendix of Watson, A.B. (1979). Probability\n",
      "                summation over time. Vision Res 19, 515-522.\n",
      "            \n",
      "        Raises: \n",
      "            ValueError: invalid model, options are \"weibull\", \n",
      "                        \"weibull50\", \"erf_psycho\" and \"erf_psycho_2gammas\"\n",
      "            TypeError: data must be a list or numpy array\n",
      "            ValueError data must be m by 3 matrix\n",
      "            \n",
      "        Information:\n",
      "            1999-11 FH wrote it\n",
      "            2000-01 MC cleaned it up\n",
      "            2000-07 MC made it indep of Weibull and added parmin and parmax\n",
      "            2018-08 MW ported to Python\n",
      "    \n",
      "    weibull(pars, xx)\n",
      "        Weibull function from 0 to 1, with lapse rate.\n",
      "        \n",
      "        Args:\n",
      "            pars: Model parameters [alpha, beta, gamma].\n",
      "            xx: vector of stim levels (%).\n",
      "        \n",
      "        Returns:\n",
      "            A vector of length xx\n",
      "            \n",
      "        Raises: \n",
      "            ValueError: pars must be a vector of length 3\n",
      "            ValueError: each of the three parameters must be scalar\n",
      "            TypeError: pars must be a list or numpy array\n",
      "            \n",
      "        Information:\n",
      "            1999-11 FH wrote it\n",
      "            2000-01 MC cleaned it up\n",
      "            2018-08 MW ported to Python\n",
      "    \n",
      "    weibull50(pars, xx)\n",
      "        Weibull function from 0.5 to 1, with lapse rate.\n",
      "        \n",
      "        Args:\n",
      "            pars: Model parameters [alpha, beta, gamma].\n",
      "            xx: vector of stim levels (%).\n",
      "        \n",
      "        Returns:\n",
      "            A vector of length xx\n",
      "            \n",
      "        Raises: \n",
      "            ValueError: pars must be a vector of length 3\n",
      "            ValueError: each of the three parameters must be scalar\n",
      "            TypeError: pars must be a list or numpy array\n",
      "            \n",
      "        Information:\n",
      "            2000-04 MC wrote it\n",
      "            2018-08 MW ported to Python\n",
      "\n",
      "DATA\n",
      "    erf = <ufunc 'erf'>\n",
      "\n",
      "FILE\n",
      "    c:\\users\\miles\\documents\\python scripts\\psychofit.py\n",
      "\n",
      "\n"
     ]
    }
   ],
   "source": [
    "import psychofit as psy\n",
    "import numpy as np\n",
    "import matplotlib.pyplot as plt\n",
    "%matplotlib inline\n",
    "help(psy)"
   ]
  },
  {
   "cell_type": "markdown",
   "metadata": {},
   "source": [
    "## Example 1\n",
    "Fit data from 0 to 1 and stimulus in log units, using erf "
   ]
  },
  {
   "cell_type": "code",
   "execution_count": 2,
   "metadata": {},
   "outputs": [
    {
     "data": {
      "text/plain": [
       "[<matplotlib.lines.Line2D at 0x8f6dd68>]"
      ]
     },
     "execution_count": 2,
     "metadata": {},
     "output_type": "execute_result"
    },
    {
     "data": {
      "image/png": "[encoded data removed]",
      "text/plain": [
       "<matplotlib.figure.Figure at 0x5a3ac88>"
      ]
     },
     "metadata": {},
     "output_type": "display_data"
    }
   ],
   "source": [
    "# stimulus values vary logarithmically (we will take the log when fitting)\n",
    "xx = 10**np.arange(-4,-1,.2)\n",
    "nxx = xx.size\n",
    "\n",
    "# actual parameters of the observer\n",
    "threshold = -2.\n",
    "slope = 1.\n",
    "gamma = .05\n",
    "\n",
    "# fake experimental data given those parameters\n",
    "pp = psy.erf_psycho([threshold, slope, gamma], np.log10(xx))\n",
    "ntrials = 40\n",
    "dd = np.random.binomial(1, pp, size=(ntrials,nxx))\n",
    "\n",
    "# fit to reconstruct the parameters\n",
    "data = np.vstack((np.log10(xx), 10*np.ones((nxx,)), np.mean(dd, axis=0)))\n",
    "pars, L = psy.mle_fit_psycho(data, 'erf_psycho');\n",
    "\n",
    "plt.semilogx(xx, np.mean(dd, axis=0), 'ko')\n",
    "plt.semilogx(xx, psy.erf_psycho(pars,np.log10(xx)), '-')"
   ]
  },
  {
   "cell_type": "markdown",
   "metadata": {},
   "source": [
    "## Example 2\n",
    "Fit data from 0 to 1 and stimulus in linear units, using erf"
   ]
  },
  {
   "cell_type": "code",
   "execution_count": 3,
   "metadata": {},
   "outputs": [
    {
     "data": {
      "text/plain": [
       "Text(0.5,1,'bias = -8, threshold = 24, lapse =  0')"
      ]
     },
     "execution_count": 3,
     "metadata": {},
     "output_type": "execute_result"
    },
    {
     "data": {
      "image/png": "[encoded data removed]",
      "text/plain": [
       "<matplotlib.figure.Figure at 0x93a4278>"
      ]
     },
     "metadata": {},
     "output_type": "display_data"
    }
   ],
   "source": [
    "# stimulus values\n",
    "xx = np.arange(-50,50,10)\n",
    "nxx = xx.size\n",
    "\n",
    "# actual parameters of the observer\n",
    "bias = -10.\n",
    "threshold = 20.\n",
    "gamma = .1\n",
    "\n",
    "# fake experimental data given those parameters\n",
    "pp = psy.erf_psycho([bias, threshold, gamma],xx)\n",
    "ntrials = 40;\n",
    "dd = np.random.binomial(1, pp, size=(ntrials,nxx))\n",
    "\n",
    "# fit it\n",
    "data = np.vstack((xx, ntrials*np.ones((nxx,)), np.mean(dd, axis=0)))\n",
    "pars, L = psy.mle_fit_psycho(data, 'erf_psycho', \n",
    "            np.array([0., 20., 0.1]), np.array([-20., 10., 0.]), np.array([20., 40., .3]), 10);\n",
    "\n",
    "# graphics\n",
    "plt.plot(xx,np.mean(dd, axis=0),'ko',mfc='k')\n",
    "plt.plot((0,0),(0,1),'k:')\n",
    "plt.plot(np.arange(-50,50), psy.erf_psycho( pars, np.arange(-50,50) ))\n",
    "plt.plot((-50, 50),(.5, .5),'k:')\n",
    "plt.title('bias = {:2.0f}, threshold = {:2.0f}, lapse = {:2.0f}'.format(*pars))"
   ]
  },
  {
   "cell_type": "markdown",
   "metadata": {},
   "source": [
    "## Example 3\n",
    "Same, with two different lapse rates"
   ]
  },
  {
   "cell_type": "code",
   "execution_count": 4,
   "metadata": {},
   "outputs": [
    {
     "data": {
      "text/plain": [
       "Text(0.5,1,'bias = -10, threshold = 20, lapse =  0')"
      ]
     },
     "execution_count": 4,
     "metadata": {},
     "output_type": "execute_result"
    },
    {
     "data": {
      "image/png": "[encoded data removed]",
      "text/plain": [
       "<matplotlib.figure.Figure at 0x9486668>"
      ]
     },
     "metadata": {},
     "output_type": "display_data"
    }
   ],
   "source": [
    "# stimulus values\n",
    "xx = np.arange(-50,50,10)\n",
    "nxx = xx.size\n",
    "\n",
    "# actual parameters of the observer\n",
    "bias = -10.\n",
    "threshold = 20.\n",
    "gamma1 = .2\n",
    "gamma2 = 0.\n",
    "\n",
    "# fake experimental data given those parameters\n",
    "pp = psy.erf_psycho_2gammas([bias, threshold, gamma1, gamma2],xx)\n",
    "ntrials = 40;\n",
    "dd = np.random.binomial(1, pp, size=(ntrials,nxx))\n",
    "\n",
    "# fit it\n",
    "data = np.vstack((xx, ntrials*np.ones((nxx,)), np.mean(dd, axis=0)))\n",
    "pars, L = psy.mle_fit_psycho(data, 'erf_psycho_2gammas', \n",
    "            np.array([0., 20., .1, .1]), np.array([-20., 10., 0., 0.]), np.array([20., 40., .3, .3]), 10);\n",
    "\n",
    "# graphics\n",
    "plt.plot(xx,np.mean(dd, axis=0),'ko',mfc='k')\n",
    "plt.plot((0,0),(0,1),'k:')\n",
    "plt.plot(np.arange(-50,50), psy.erf_psycho_2gammas( pars, np.arange(-50,50) ))\n",
    "plt.plot((-50, 50),(0.5, 0.5),'k:')\n",
    "plt.title('bias = {:2.0f}, threshold = {:2.0f}, lapse = {:2.0f}'.format(*pars))"
   ]
  },
  {
   "cell_type": "markdown",
   "metadata": {},
   "source": [
    "## Example 4\n",
    "Fit data from .5 to 1, using weibull"
   ]
  },
  {
   "cell_type": "code",
   "execution_count": 5,
   "metadata": {},
   "outputs": [
    {
     "data": {
      "text/plain": [
       "[<matplotlib.lines.Line2D at 0x952d198>]"
      ]
     },
     "execution_count": 5,
     "metadata": {},
     "output_type": "execute_result"
    },
    {
     "data": {
      "image/png": "[encoded data removed]",
      "text/plain": [
       "<matplotlib.figure.Figure at 0x938bf60>"
      ]
     },
     "metadata": {},
     "output_type": "display_data"
    }
   ],
   "source": [
    "# stimulus values\n",
    "nxx = 8\n",
    "xx = 10**np.linspace(-4,-1,nxx)\n",
    "\n",
    "# actual parameters of the observer\n",
    "alpha = 10**-2.5\n",
    "beta = 2.\n",
    "gamma = 0.1\n",
    "\n",
    "# fake experimental data given those parameters\n",
    "pp = psy.weibull50([alpha, beta, gamma], xx)\n",
    "ntrials = 80\n",
    "dd = np.random.binomial(1., pp, size=(ntrials,nxx))\n",
    "# fit to reconstruct the parameters (notice we do NOT take log of x values)\n",
    "data = np.vstack((xx, ntrials*np.ones((nxx,)), np.mean(dd, axis=0)))\n",
    "pars, L = psy.mle_fit_psycho(data, 'weibull50');\n",
    "\n",
    "# graphics\n",
    "many_xx = 10**np.linspace(-4,-1)\n",
    "plt.semilogx(xx, np.mean(dd, axis=0), 'ko')\n",
    "plt.semilogx(many_xx, psy.weibull50(pars,many_xx), '-')\n",
    "plt.semilogx(many_xx, psy.weibull50([alpha, beta, gamma],many_xx), 'k--')"
   ]
  }
 ],
 "metadata": {
  "kernelspec": {
   "display_name": "Python 3",
   "language": "python",
   "name": "python3"
  },
  "language_info": {
   "codemirror_mode": {
    "name": "ipython",
    "version": 3
   },
   "file_extension": ".py",
   "mimetype": "text/x-python",
   "name": "python",
   "nbconvert_exporter": "python",
   "pygments_lexer": "ipython3",
   "version": "3.6.4"
  }
 },
 "nbformat": 4,
 "nbformat_minor": 2
}
